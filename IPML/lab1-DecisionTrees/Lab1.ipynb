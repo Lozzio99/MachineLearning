{
 "cells": [
  {
   "cell_type": "markdown",
   "metadata": {
    "pycharm": {
     "name": "#%% md\n"
    }
   },
   "source": [
    "# Lab 1\n",
    "## Read data from csv and set it up for training/testing"
   ]
  },
  {
   "cell_type": "code",
   "execution_count": 4,
   "metadata": {},
   "outputs": [
    {
     "name": "stdout",
     "output_type": "stream",
     "text": [
      "     preg  plas  pres  skin  insu  mass   pedi  age\n",
      "659     3    80    82    31    70  34.2  1.292   27\n",
      "439     6   107    88     0     0  36.8  0.727   31\n",
      "72     13   126    90     0     0  43.4  0.583   42\n",
      "329     6   105    70    32    68  30.8  0.122   37\n",
      "692     2   121    70    32    95  39.1  0.886   23\n",
      "..    ...   ...   ...   ...   ...   ...    ...  ...\n",
      "369     1   133   102    28   140  32.8  0.234   45\n",
      "320     4   129    60    12   231  27.5  0.527   31\n",
      "527     3   116    74    15   105  26.3  0.107   24\n",
      "125     1    88    30    42    99  55.0  0.496   26\n",
      "265     5    96    74    18    67  33.6  0.997   43\n",
      "\n",
      "[506 rows x 8 columns]\n",
      "          RI     Na    Mg    Al     Si     K     Ca    Ba    Fe\n",
      "166  1.51747  12.84  3.50  1.14  73.27  0.56   8.55  0.00  0.00\n",
      "21   1.52475  11.45  0.00  1.88  72.19  0.81  13.24  0.00  0.34\n",
      "136  1.51754  13.48  3.74  1.17  72.99  0.59   8.03  0.00  0.00\n",
      "206  1.51623  14.20  0.00  2.79  73.46  0.04   9.04  0.40  0.09\n",
      "75   1.51652  13.56  3.57  1.47  72.45  0.64   7.96  0.00  0.00\n",
      "..       ...    ...   ...   ...    ...   ...    ...   ...   ...\n",
      "113  1.51651  14.38  0.00  1.94  73.61  0.00   8.48  1.57  0.00\n",
      "64   1.52320  13.72  3.72  0.51  71.75  0.09  10.06  0.00  0.16\n",
      "15   1.51707  13.48  3.48  1.71  72.52  0.62   7.99  0.00  0.00\n",
      "125  1.51748  12.86  3.56  1.27  73.21  0.54   8.38  0.00  0.17\n",
      "9    1.51789  13.19  3.90  1.30  72.33  0.55   8.44  0.00  0.28\n",
      "\n",
      "[141 rows x 9 columns]\n"
     ]
    }
   ],
   "source": [
    "import pandas as pd\n",
    "from sklearn import tree\n",
    "from sklearn.metrics import accuracy_score\n",
    "from sklearn.model_selection import train_test_split\n",
    "from matplotlib import pyplot as plt\n",
    "import numpy as np\n",
    "def read_data(file_name):\n",
    "    data = pd.read_csv(file_name)\n",
    "    y = data['class']\n",
    "    x = data.drop(['class'],axis = 1)\n",
    "    xtr, xt, ytr, yt = train_test_split(x,y,test_size=0.34, random_state=10)\n",
    "    return  xtr, xt, ytr, yt\n",
    "\n",
    "x_train1, x_test1, y_train1, y_test1 = read_data(\"../data/diabetes.csv\")\n",
    "x_train2, x_test2, y_train2, y_test2 = read_data(\"../data/glass.csv\")"
   ]
  },
  {
   "cell_type": "markdown",
   "metadata": {},
   "source": [
    "## Training\n",
    "Train one-level  decision  trees  and  multi-level  decision  trees\n",
    "on  the  two  data sets.\n",
    "Determine the accuracy rates of the resulting classifiers\n",
    "using the training set and hold-out validation"
   ]
  },
  {
   "cell_type": "code",
   "execution_count": 16,
   "metadata": {
    "pycharm": {
     "name": "#%%\n"
    }
   },
   "outputs": [
    {
     "name": "stdout",
     "output_type": "stream",
     "text": [
      "Dataset 1\n",
      "Accuracy training one-level:  0.7648221343873518\n",
      "Accuracy training multi-level:  1.0\n",
      "Accuracy Holdout validation one-level:  0.7213740458015268\n",
      "Accuracy Holdout validation multi-level:  0.7366412213740458\n",
      "Dataset 2\n",
      "Accuracy training one-level:  0.46099290780141844\n",
      "Accuracy training multi-level:  1.0\n",
      "Accuracy Holdout validation one-level:  0.4246575342465753\n",
      "Accuracy Holdout validation multi-level:  0.6712328767123288\n"
     ]
    }
   ],
   "source": [
    "def train_level_depth (xtr,ytr,depth):  # fit single/multi level depth tree\n",
    "    c = tree.DecisionTreeClassifier(criterion= 'entropy', max_depth=depth)\n",
    "    c.fit(xtr,ytr)\n",
    "    return c\n",
    "def level_depth_holdout(xtr,xt,ytr,yt,depth):\n",
    "    return accuracy_score(yt,train_level_depth(xtr,ytr,depth).predict(xt))\n",
    "def level_depth_accuracy_training(xtr,ytr,depth):\n",
    "    return accuracy_score(ytr,train_level_depth(xtr,ytr,depth).predict(xtr))\n",
    "\n",
    "print(\"Dataset 1\")\n",
    "print(\"Accuracy training one-level: \",level_depth_accuracy_training(x_train1,y_train1,depth=1))\n",
    "print(\"Accuracy training multi-level: \",level_depth_accuracy_training(x_train1,y_train1,depth=None))\n",
    "\n",
    "print(\"Accuracy Holdout validation one-level: \",level_depth_holdout(x_train1,x_test1,y_train1,y_test1,depth=1))\n",
    "print(\"Accuracy Holdout validation multi-level: \",level_depth_holdout(x_train1,x_test1,y_train1,y_test1,depth=None))\n",
    "\n",
    "print(\"Dataset 2\")\n",
    "print(\"Accuracy training one-level: \",level_depth_accuracy_training(x_train2,y_train2,depth=1))\n",
    "print(\"Accuracy training multi-level: \",level_depth_accuracy_training(x_train2,y_train2,depth=None))\n",
    "\n",
    "print(\"Accuracy Holdout validation one-level: \",level_depth_holdout(x_train2,x_test2,y_train2,y_test2,depth=1))\n",
    "print(\"Accuracy Holdout validation multi-level: \",level_depth_holdout(x_train2,x_test2,y_train2,y_test2,depth=None))\n"
   ]
  },
  {
   "cell_type": "markdown",
   "metadata": {},
   "source": [
    "**Explain why there is a  difference in  the accuracy rates.\n",
    "Compare one-level decision trees and multi-level decision trees in terms of explainability.**\n",
    "\n",
    "By setting the maximum depth of the tree, nodes are expanded until all the leaves contain less\n",
    "than min_samples_split samples.\n",
    "The higher value of maximum depth causes overfitting, and a lower value causes underfitting\n",
    "\n",
    "**Experiment with multi-level decision trees and error pre-pruning by changing the option min_samples_leaf from 0\n",
    "to the size of the datasets (use some step).**\n",
    "**Estimate  the  accuracy  rates  of  the  resulting  decision  trees using the training set and hold-out validation.\n",
    "Plot the accuracy rates based on the training set and hold-out validation for min_samples_leaf from 1 to the size\n",
    "of the datasets with step of 5.**"
   ]
  },
  {
   "cell_type": "code",
   "execution_count": 17,
   "metadata": {
    "pycharm": {
     "name": "#%%\n"
    }
   },
   "outputs": [
    {
     "data": {
      "image/png": "[encoded data removed]",
      "text/plain": [
       "<Figure size 432x288 with 1 Axes>"
      ]
     },
     "metadata": {
      "needs_background": "light"
     },
     "output_type": "display_data"
    },
    {
     "data": {
      "image/png": "[encoded data removed]",
      "text/plain": [
       "<Figure size 432x288 with 1 Axes>"
      ]
     },
     "metadata": {
      "needs_background": "light"
     },
     "output_type": "display_data"
    }
   ],
   "source": [
    "def msl_train (xtr,ytr,msl):  # fit the decision tree classifier\n",
    "    c = tree.DecisionTreeClassifier(criterion= 'entropy',max_depth=None, min_samples_leaf=msl)\n",
    "    c.fit(xtr,ytr)\n",
    "    return c\n",
    "def msl_holdout(xtr,xt,ytr,yt,msl):\n",
    "    return accuracy_score(yt,msl_train(xtr,ytr,msl).predict(xt))  # predict on the test set\n",
    "def msl_accuracy_training(xtr,ytr,msl):\n",
    "    return accuracy_score(ytr,msl_train(xtr,ytr,msl).predict(xtr))  # predict on the training set\n",
    "\n",
    "\n",
    "def plot_validation_multi_level(xtr,xt,ytr,yt,ite,title):\n",
    "    min_samples_leaf = range(1, len(ytr), 5)  # create steps for the method\n",
    "    avg_holdout=[]\n",
    "    avg_acc = []\n",
    "    for i in min_samples_leaf:  # iterate through each step changing min_sample_leaf param.\n",
    "        holdout=[]\n",
    "        acc = []\n",
    "        for k in range(1,ite):  # iterate multiple times to average the results\n",
    "            holdout.append(msl_holdout(xtr,xt,ytr,yt,i))   # holdout validation accuracy\n",
    "            acc.append(msl_accuracy_training(xtr,ytr,i))   # training accuracy\n",
    "        avg_holdout.append([i,(sum(holdout)/len(holdout))])  # average out the value\n",
    "        avg_acc.append([i,sum(acc)/len(acc)])\n",
    "    avg_holdout= np.array(avg_holdout)\n",
    "    avg_acc = np.array(avg_acc)\n",
    "    p2, = plt.plot(avg_acc[:,0], avg_acc[:,1],'b', label= \"training accuracy\")\n",
    "    p1, = plt.plot(avg_holdout[:,0],avg_holdout[:,1],'r', label= \"holdout accuracy\")\n",
    "    l = plt.legend()\n",
    "    l.texts[0].set_color(p2.get_color())\n",
    "    l.texts[1].set_color(p1.get_color())\n",
    "    plt.xlabel(\"min samples leaf\")\n",
    "    plt.ylabel(\"accuracy score\")\n",
    "    plt.title(title)\n",
    "    plt.show()\n",
    "\n",
    "\n",
    "plot_validation_multi_level(x_train1,x_test1,y_train1,y_test1,10,\"diabetes dataset\")\n",
    "plot_validation_multi_level(x_train2,x_test2,y_train2,y_test2,10,\"glass dataset\")\n",
    "\n"
   ]
  },
  {
   "cell_type": "markdown",
   "metadata": {
    "pycharm": {
     "name": "#%% md\n"
    }
   },
   "source": [
    "**Identify  the  regions  of  underfitting,  optimality,  and  overfitting.\n",
    "Explain how you have identified these regions.**\n",
    "\n",
    "### Overfitting is when the error on the training set is low but then the error on the test set is large.\n",
    "\n",
    "The method presents a small region of overfitting when the min_sample_leaf parameter is small,\n",
    "indeed with both datasets, the training accuracy is very high in this part of the graph,\n",
    "but the testing validation gives a high error (small accuracy).\n",
    "\n",
    "### Underfitting is when the error on both the training and test sets is very high.\n",
    "\n",
    "The method presents a region of underfitting when the min_sample_leaf parameter is high as the number of\n",
    "instances in the dataset, because both the training and the testing validation error are quite high. (small accuracy)\n",
    "This reasoning is likely equal for both datasets.\n",
    "\n",
    "### Optimality is when errors are close to each other being low.\n",
    "\n",
    "The method presents a region of optimality when the min_sample_leaf parameter is around 1/5 of the number\n",
    "of instances in the dataset because training and holdout accuracy are both tight together with a high value.\n",
    "This reasoning is likely equal for both datasets."
   ]
  }
 ],
 "metadata": {
  "kernelspec": {
   "display_name": "Python 3 (ipykernel)",
   "language": "python",
   "name": "python3"
  },
  "language_info": {
   "codemirror_mode": {
    "name": "ipython",
    "version": 3
   },
   "file_extension": ".py",
   "mimetype": "text/x-python",
   "name": "python",
   "nbconvert_exporter": "python",
   "pygments_lexer": "ipython3",
   "version": "3.9.6"
  }
 },
 "nbformat": 4,
 "nbformat_minor": 1
}